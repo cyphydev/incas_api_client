{
 "cells": [
  {
   "cell_type": "code",
   "execution_count": 15,
   "id": "e3617ccd-3ec9-47a4-96da-8b4c79cd68c0",
   "metadata": {},
   "outputs": [],
   "source": [
    "from __future__ import print_function\n",
    "import time\n",
    "import uiuc_incas_client\n",
    "from uiuc_incas_client.rest import ApiException\n",
    "from pprint import pprint"
   ]
  },
  {
   "cell_type": "code",
   "execution_count": 16,
   "id": "43761e16-f7c0-4cc3-8a14-3996f1630356",
   "metadata": {},
   "outputs": [],
   "source": [
    "config = uiuc_incas_client.Configuration()\n",
    "config.connection_pool_maxsize = 1\n",
    "client = uiuc_incas_client.ApiClient(config)\n",
    "api_instance = uiuc_incas_client.MessageApi(client)"
   ]
  },
  {
   "cell_type": "code",
   "execution_count": 17,
   "id": "b8abec54-5027-4b34-9235-7bcda845604f",
   "metadata": {},
   "outputs": [],
   "source": [
    "id_ = \"twitter:833234036835418112\""
   ]
  },
  {
   "cell_type": "code",
   "execution_count": null,
   "id": "d8d22cc7-9ecc-4b34-844e-5f76e1e8d596",
   "metadata": {},
   "outputs": [],
   "source": []
  },
  {
   "cell_type": "code",
   "execution_count": 18,
   "id": "ea8e151f-033b-41f6-b095-fa37e4102815",
   "metadata": {},
   "outputs": [
    {
     "name": "stdout",
     "output_type": "stream",
     "text": [
      "{'annotations': [],\n",
      " 'author_actor': None,\n",
      " 'content_text': 'RT @FrancoisFillon Je suis fier et reconnaissant de vous '\n",
      "                 'avoir à mes côtés. Merci de votre soutien. '\n",
      "                 'https://t.co/JrFX3mIQMk',\n",
      " 'data_tags': [],\n",
      " 'embedded_urls': [],\n",
      " 'enrichments': [{'confidence': 1.0,\n",
      "                  'enrichmentName': 'e1',\n",
      "                  'enrichmentType': 'text',\n",
      "                  'messageUuid': '21e78c7f0b95ab0ad129ff1f98df5d1091869539',\n",
      "                  'providerName': 'p1',\n",
      "                  'version': '1'},\n",
      "                 {'attributeValue': [0.1635173112154007,\n",
      "                                     0.0238747950643301,\n",
      "                                     0.005940988659858704,\n",
      "                                     0.019382501021027565,\n",
      "                                     0.02911011688411236,\n",
      "                                     0.06864085793495178,\n",
      "                                     0.13506612181663513,\n",
      "                                     0.014263512566685677,\n",
      "                                     0.07262866944074631,\n",
      "                                     0.4675751328468323],\n",
      "                  'confidence': 1.0,\n",
      "                  'enrichmentName': 'frame_classification',\n",
      "                  'enrichmentType': 'array',\n",
      "                  'messageUuid': 'twitter:833234036835418112',\n",
      "                  'providerName': 'dmg',\n",
      "                  'version': '0.1'}],\n",
      " 'extra_attributes': [],\n",
      " 'geolocation': None,\n",
      " 'id': '21e78c7f0b95ab0ad129ff1f98df5d1091869539',\n",
      " 'image_urls': ['https://video.twimg.com/amplify_video/832731749495009280/vid/1280x720/3OLl596ivpOK20p2.mp4'],\n",
      " 'language': 'French',\n",
      " 'media_type': 'Twitter',\n",
      " 'media_type_attributes': {'reddit_data': None,\n",
      "                           'twitter_data': {'engagement_parent_id': '833232160207233024',\n",
      "                                            'engagement_type': 'retweet',\n",
      "                                            'follower_count': 2220,\n",
      "                                            'following_count': 2808,\n",
      "                                            'like_count': None,\n",
      "                                            'mentioned_users': ['5b05d79956a24b6bd262b9b3be4321e0'],\n",
      "                                            'retweet_count': 0,\n",
      "                                            'tweet_id': '833234036835418112',\n",
      "                                            'twitter_author_screenname': 'd132648b52995d74e996e32b07ca2625',\n",
      "                                            'twitter_user_id': None}},\n",
      " 'name': '',\n",
      " 'time_published': 1487493449000,\n",
      " 'title': 'RT @FrancoisFillon Je suis fier et reconnaissant de vous avoir à '\n",
      "          'mes côtés. Merci de votre soutien. https://t.co/JrFX3mIQMk',\n",
      " 'uiuc_author_id': None}\n"
     ]
    }
   ],
   "source": [
    "try:\n",
    "    # get message\n",
    "    api_response = api_instance.message_id_get(id_, with_enrichment=True, dev=True) # dev indicates returning of all existing enrichments regardless of meta data existance.\n",
    "    pprint(api_response)\n",
    "except ApiException as e:\n",
    "    print(\"Exception when calling MessageApi->message_id_get: %s\\n\" % e)"
   ]
  },
  {
   "cell_type": "code",
   "execution_count": 5,
   "id": "75b482c8-8a99-4b9e-801a-244ab6262b26",
   "metadata": {},
   "outputs": [
    {
     "name": "stdout",
     "output_type": "stream",
     "text": [
      "[{'confidence': 1.0,\n",
      "  'enrichmentName': 'e1',\n",
      "  'enrichmentType': 'text',\n",
      "  'messageUuid': '21e78c7f0b95ab0ad129ff1f98df5d1091869539',\n",
      "  'providerName': 'p1',\n",
      "  'version': '1'},\n",
      " {'attributeValue': [0.1635173112154007,\n",
      "                     0.0238747950643301,\n",
      "                     0.005940988659858704,\n",
      "                     0.019382501021027565,\n",
      "                     0.02911011688411236,\n",
      "                     0.06864085793495178,\n",
      "                     0.13506612181663513,\n",
      "                     0.014263512566685677,\n",
      "                     0.07262866944074631,\n",
      "                     0.4675751328468323],\n",
      "  'confidence': 1.0,\n",
      "  'enrichmentName': 'frame_classification',\n",
      "  'enrichmentType': 'array',\n",
      "  'messageUuid': 'twitter:833234036835418112',\n",
      "  'providerName': 'dmg',\n",
      "  'version': '0.1'}]\n"
     ]
    }
   ],
   "source": [
    "try:\n",
    "    # get enrichments for this message\n",
    "    api_response = api_instance.message_id_enrichments_get(id_)\n",
    "    pprint(api_response)\n",
    "except ApiException as e:\n",
    "    print(\"Exception when calling MessageApi->message_id_enrichments_get: %s\\n\" % e)"
   ]
  },
  {
   "cell_type": "markdown",
   "id": "19c8ac84-b7a2-46b5-b616-2ccd4897474b",
   "metadata": {},
   "source": [
    "## Add a new enrichment"
   ]
  },
  {
   "cell_type": "code",
   "execution_count": 19,
   "id": "3814bc5a-4f25-4336-88dc-73531bf563e9",
   "metadata": {},
   "outputs": [],
   "source": [
    "enrichment_name = 'e1' # str\n",
    "provider_name = 'p1' # str\n",
    "version = '2.1' # str"
   ]
  },
  {
   "cell_type": "code",
   "execution_count": 7,
   "id": "b11264c0-1f8f-439e-955f-7f2a0d71cc4f",
   "metadata": {},
   "outputs": [],
   "source": [
    "try:\n",
    "    # add the meta first\n",
    "    meta = uiuc_incas_client.ArrayMessageEnrichmentMeta(enrichment_name=enrichment_name, enrichment_type='array', provider_name=provider_name, version=version)\n",
    "    api_instance.message_enrichments_meta_post(meta)\n",
    "except ApiException as e:\n",
    "    print(\"Exception when calling MessageApi->message_enrichments_meta_post: %s\\n\" % e)"
   ]
  },
  {
   "cell_type": "code",
   "execution_count": 20,
   "id": "ed0ced64-59a2-4612-b90b-1b3210a91ba7",
   "metadata": {},
   "outputs": [
    {
     "name": "stdout",
     "output_type": "stream",
     "text": [
      "[{'confidence': 1.0,\n",
      "  'enrichmentName': 'e1',\n",
      "  'enrichmentType': 'text',\n",
      "  'messageUuid': '21e78c7f0b95ab0ad129ff1f98df5d1091869539',\n",
      "  'providerName': 'p1',\n",
      "  'version': '1'},\n",
      " {'attributeValue': [0.1635173112154007,\n",
      "                     0.0238747950643301,\n",
      "                     0.005940988659858704,\n",
      "                     0.019382501021027565,\n",
      "                     0.02911011688411236,\n",
      "                     0.06864085793495178,\n",
      "                     0.13506612181663513,\n",
      "                     0.014263512566685677,\n",
      "                     0.07262866944074631,\n",
      "                     0.4675751328468323],\n",
      "  'confidence': 1.0,\n",
      "  'enrichmentName': 'frame_classification',\n",
      "  'enrichmentType': 'array',\n",
      "  'messageUuid': 'twitter:833234036835418112',\n",
      "  'providerName': 'dmg',\n",
      "  'version': '0.1'}]\n"
     ]
    }
   ],
   "source": [
    "try:\n",
    "    # insert a new enrichment\n",
    "    body = uiuc_incas_client.ArrayMessageEnrichment(\n",
    "        confidence=1,\n",
    "        enrichment_name=enrichment_name,\n",
    "        enrichment_type='array',\n",
    "        provider_name=provider_name,\n",
    "        version=version,\n",
    "        attribute_value=[1]\n",
    "    )\n",
    "    api_instance.message_id_enrichments_post(body, id_)\n",
    "    \n",
    "    # Show the content again\n",
    "    api_response = api_instance.message_id_enrichments_get(id_)\n",
    "    pprint(api_response)\n",
    "except ApiException as e:\n",
    "    print(\"Exception when calling MessageApi->message_id_enrichments_post: %s\\n\" % e)"
   ]
  },
  {
   "cell_type": "code",
   "execution_count": 22,
   "id": "17a86256-ce1d-44d2-8cfb-299eb6357db4",
   "metadata": {},
   "outputs": [
    {
     "name": "stdout",
     "output_type": "stream",
     "text": [
      "[{'confidence': 1.0,\n",
      "  'enrichmentName': 'e1',\n",
      "  'enrichmentType': 'text',\n",
      "  'messageUuid': '21e78c7f0b95ab0ad129ff1f98df5d1091869539',\n",
      "  'providerName': 'p1',\n",
      "  'version': '1'},\n",
      " {'attributeValue': [0.1635173112154007,\n",
      "                     0.0238747950643301,\n",
      "                     0.005940988659858704,\n",
      "                     0.019382501021027565,\n",
      "                     0.02911011688411236,\n",
      "                     0.06864085793495178,\n",
      "                     0.13506612181663513,\n",
      "                     0.014263512566685677,\n",
      "                     0.07262866944074631,\n",
      "                     0.4675751328468323],\n",
      "  'confidence': 1.0,\n",
      "  'enrichmentName': 'frame_classification',\n",
      "  'enrichmentType': 'array',\n",
      "  'messageUuid': 'twitter:833234036835418112',\n",
      "  'providerName': 'dmg',\n",
      "  'version': '0.1'},\n",
      " {'attributeValue': [1.0, 2.0],\n",
      "  'confidence': 1.0,\n",
      "  'enrichmentName': 'e1',\n",
      "  'enrichmentType': 'array',\n",
      "  'messageUuid': '21e78c7f0b95ab0ad129ff1f98df5d1091869539',\n",
      "  'providerName': 'p1',\n",
      "  'version': '2.1'}]\n"
     ]
    }
   ],
   "source": [
    "try:\n",
    "    # update the enrichment\n",
    "    body = uiuc_incas_client.ArrayMessageEnrichment(\n",
    "        confidence=1,\n",
    "        enrichment_name=enrichment_name,\n",
    "        enrichment_type='array',\n",
    "        provider_name=provider_name,\n",
    "        version=version,\n",
    "        attribute_value=[1, 2]  # change the value\n",
    "    )\n",
    "    api_instance.message_id_enrichments_put(body, id_)\n",
    "    \n",
    "    # Show the content again\n",
    "    api_response = api_instance.message_id_enrichments_get(id_, dev=True)\n",
    "    pprint(api_response)\n",
    "except ApiException as e:\n",
    "    print(\"Exception when calling MessageApi->message_id_enrichments_put: %s\\n\" % e)"
   ]
  },
  {
   "cell_type": "markdown",
   "id": "5381c231-f1f5-4da0-b5f2-17743df13441",
   "metadata": {},
   "source": [
    "## Delete an enrichment"
   ]
  },
  {
   "cell_type": "code",
   "execution_count": 23,
   "id": "a7717ae2-5d04-4faf-9021-8d239e114919",
   "metadata": {},
   "outputs": [],
   "source": [
    "try:\n",
    "    # First delete the meta\n",
    "    # api_instance.message_enrichments_meta_delete(enrichment_name, provider_name, version)\n",
    "    \n",
    "    # Here we use a batch delete, single delete is also available\n",
    "    body = uiuc_incas_client.MessageEnrichmentsBatchDeleteBody(\n",
    "        ids=[id_],\n",
    "        enrichment_name=enrichment_name,\n",
    "        provider_name=provider_name,\n",
    "        version=version\n",
    "    )\n",
    "    api_instance.message_enrichments_batch_delete(body)\n",
    "except ApiException as e:\n",
    "    print(\"Exception when calling MessageApi->message_enrichments_batch_delete: %s\\n\" % e)"
   ]
  },
  {
   "cell_type": "code",
   "execution_count": null,
   "id": "04aef621-cf03-4129-9695-ba9e572c22be",
   "metadata": {},
   "outputs": [],
   "source": []
  },
  {
   "cell_type": "code",
   "execution_count": 11,
   "id": "661a68c5-9a78-466b-8e77-63ea50ecccc0",
   "metadata": {},
   "outputs": [
    {
     "name": "stdout",
     "output_type": "stream",
     "text": [
      "674309\n"
     ]
    }
   ],
   "source": [
    "try:\n",
    "    # get the current message number\n",
    "    api_response = api_instance.message_count_get(media_type='Twitter')\n",
    "    pprint(api_response)\n",
    "except ApiException as e:\n",
    "    print(\"Exception when calling MessageApi->message_count_get: %s\\n\" % e)"
   ]
  },
  {
   "cell_type": "code",
   "execution_count": 12,
   "id": "d9ca8bb1-070d-4757-88db-9cd6623ff5b3",
   "metadata": {},
   "outputs": [
    {
     "name": "stdout",
     "output_type": "stream",
     "text": [
      "[{'annotations': [],\n",
      " 'author_actor': None,\n",
      " 'content_text': 'RT @FrancoisFillon Je suis fier et reconnaissant de vous '\n",
      "                 'avoir à mes côtés. Merci de votre soutien. '\n",
      "                 'https://t.co/JrFX3mIQMk',\n",
      " 'data_tags': [],\n",
      " 'embedded_urls': [],\n",
      " 'enrichments': [{'confidence': 1.0,\n",
      "                  'enrichmentName': 'e1',\n",
      "                  'enrichmentType': 'text',\n",
      "                  'messageUuid': '21e78c7f0b95ab0ad129ff1f98df5d1091869539',\n",
      "                  'providerName': 'p1',\n",
      "                  'version': '1'},\n",
      "                 {'attributeValue': [0.1635173112154007,\n",
      "                                     0.0238747950643301,\n",
      "                                     0.005940988659858704,\n",
      "                                     0.019382501021027565,\n",
      "                                     0.02911011688411236,\n",
      "                                     0.06864085793495178,\n",
      "                                     0.13506612181663513,\n",
      "                                     0.014263512566685677,\n",
      "                                     0.07262866944074631,\n",
      "                                     0.4675751328468323],\n",
      "                  'confidence': 1.0,\n",
      "                  'enrichmentName': 'frame_classification',\n",
      "                  'enrichmentType': 'array',\n",
      "                  'messageUuid': 'twitter:833234036835418112',\n",
      "                  'providerName': 'dmg',\n",
      "                  'version': '0.1'}],\n",
      " 'extra_attributes': [],\n",
      " 'geolocation': None,\n",
      " 'id': '21e78c7f0b95ab0ad129ff1f98df5d1091869539',\n",
      " 'image_urls': ['https://video.twimg.com/amplify_video/832731749495009280/vid/1280x720/3OLl596ivpOK20p2.mp4'],\n",
      " 'language': 'French',\n",
      " 'media_type': 'Twitter',\n",
      " 'media_type_attributes': {'reddit_data': None,\n",
      "                           'twitter_data': {'engagement_parent_id': '833232160207233024',\n",
      "                                            'engagement_type': 'retweet',\n",
      "                                            'follower_count': 2220,\n",
      "                                            'following_count': 2808,\n",
      "                                            'like_count': None,\n",
      "                                            'mentioned_users': ['5b05d79956a24b6bd262b9b3be4321e0'],\n",
      "                                            'retweet_count': 0,\n",
      "                                            'tweet_id': '833234036835418112',\n",
      "                                            'twitter_author_screenname': 'd132648b52995d74e996e32b07ca2625',\n",
      "                                            'twitter_user_id': None}},\n",
      " 'name': '',\n",
      " 'time_published': 1487493449000,\n",
      " 'title': 'RT @FrancoisFillon Je suis fier et reconnaissant de vous avoir à '\n",
      "          'mes côtés. Merci de votre soutien. https://t.co/JrFX3mIQMk',\n",
      " 'uiuc_author_id': None},\n",
      " {'annotations': [],\n",
      " 'author_actor': None,\n",
      " 'content_text': '@EmmanuelMacron mais quel ordure es tu donc?jamais tu ne '\n",
      "                 'sera président,tu pues le fric de tes anciens boss,dégage '\n",
      "                 'petite merde sioniste',\n",
      " 'data_tags': [],\n",
      " 'embedded_urls': [],\n",
      " 'enrichments': [{'attributeValue': [0.04030465707182884,\n",
      "                                     0.01919412985444069,\n",
      "                                     0.19350451231002808,\n",
      "                                     0.018153835088014603,\n",
      "                                     0.014148950576782228,\n",
      "                                     0.268673300743103,\n",
      "                                     0.02205581031739712,\n",
      "                                     0.3763487935066223,\n",
      "                                     0.014585353434085846,\n",
      "                                     0.03303050994873047],\n",
      "                  'confidence': 1.0,\n",
      "                  'enrichmentName': 'frame_classification',\n",
      "                  'enrichmentType': 'array',\n",
      "                  'messageUuid': 'twitter:833243312303771648',\n",
      "                  'providerName': 'dmg',\n",
      "                  'version': '0.1'}],\n",
      " 'extra_attributes': [],\n",
      " 'geolocation': None,\n",
      " 'id': 'd39286144943642981d80131a4256738a1f2112f',\n",
      " 'image_urls': [],\n",
      " 'language': 'French',\n",
      " 'media_type': 'Twitter',\n",
      " 'media_type_attributes': {'reddit_data': None,\n",
      "                           'twitter_data': {'engagement_parent_id': None,\n",
      "                                            'engagement_type': 'tweet',\n",
      "                                            'follower_count': 2,\n",
      "                                            'following_count': 15,\n",
      "                                            'like_count': None,\n",
      "                                            'mentioned_users': ['83812c529321337e2337b5642b973628'],\n",
      "                                            'retweet_count': 0,\n",
      "                                            'tweet_id': '833243312303771648',\n",
      "                                            'twitter_author_screenname': 'a90a7ee50a5feb48c7cb95c341451cda',\n",
      "                                            'twitter_user_id': None}},\n",
      " 'name': '',\n",
      " 'time_published': 1487495661000,\n",
      " 'title': '@EmmanuelMacron mais quel ordure es tu donc?jamais tu  ne sera '\n",
      "          'président,tu pues le fric de tes anciens boss,dégage petite merde '\n",
      "          'sioniste',\n",
      " 'uiuc_author_id': None}]\n"
     ]
    }
   ],
   "source": [
    "try:\n",
    "    # get a batch of messages with ids\n",
    "    body = uiuc_incas_client.MessageBatchGetBody(\n",
    "        ids=[\"twitter:833234036835418112\", \"twitter:833243312303771648\"],\n",
    "        dev=False,\n",
    "        with_enrichment=True\n",
    "    )\n",
    "    api_response = api_instance.message_batch_get(body)\n",
    "    pprint(api_response)\n",
    "except ApiException as e:\n",
    "    print(\"Exception when calling MessageApi->message_batch_get: %s\\n\" % e)"
   ]
  },
  {
   "cell_type": "code",
   "execution_count": null,
   "id": "8f054a97-639c-4ad6-a187-4d038bce2dea",
   "metadata": {},
   "outputs": [],
   "source": []
  }
 ],
 "metadata": {
  "kernelspec": {
   "display_name": "Python [conda env:incas_client]",
   "language": "python",
   "name": "conda-env-incas_client-py"
  },
  "language_info": {
   "codemirror_mode": {
    "name": "ipython",
    "version": 3
   },
   "file_extension": ".py",
   "mimetype": "text/x-python",
   "name": "python",
   "nbconvert_exporter": "python",
   "pygments_lexer": "ipython3",
   "version": "3.8.12"
  }
 },
 "nbformat": 4,
 "nbformat_minor": 5
}
