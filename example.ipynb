{
 "cells": [
  {
   "cell_type": "markdown",
   "id": "ca505013-f063-4e45-af3d-efc8a0fa482c",
   "metadata": {},
   "source": [
    "# Please have a read of the README file."
   ]
  },
  {
   "cell_type": "code",
   "execution_count": null,
   "id": "e3617ccd-3ec9-47a4-96da-8b4c79cd68c0",
   "metadata": {},
   "outputs": [],
   "source": [
    "from __future__ import print_function\n",
    "import time\n",
    "import uiuc_incas_client\n",
    "from uiuc_incas_client.rest import ApiException\n",
    "from pprint import pprint\n",
    "from tqdm import tqdm\n",
    "from math import ceil"
   ]
  },
  {
   "cell_type": "code",
   "execution_count": null,
   "id": "43761e16-f7c0-4cc3-8a14-3996f1630356",
   "metadata": {},
   "outputs": [],
   "source": [
    "config = uiuc_incas_client.Configuration()\n",
    "config.connection_pool_maxsize = 1 # Set to higher value if needs concurrent requests\n",
    "\n",
    "config.api_key['X-API-KEY'] = 'YOUR_API_KEY'\n",
    "config.ssl_ca_cert = 'CA_CERT'\n",
    "config.cert_file = 'YOUR_CERT'\n",
    "config.key_file = 'YOUR_PRIVATE_KEY'\n",
    "\n",
    "client = uiuc_incas_client.ApiClient(config)\n",
    "api_instance = uiuc_incas_client.MessageApi(client)"
   ]
  },
  {
   "cell_type": "code",
   "execution_count": null,
   "id": "b8abec54-5027-4b34-9235-7bcda845604f",
   "metadata": {},
   "outputs": [],
   "source": [
    "id_ = \"message:twitter:854367242192125952\""
   ]
  },
  {
   "cell_type": "code",
   "execution_count": null,
   "id": "d8d22cc7-9ecc-4b34-844e-5f76e1e8d596",
   "metadata": {},
   "outputs": [],
   "source": []
  },
  {
   "cell_type": "code",
   "execution_count": null,
   "id": "ea8e151f-033b-41f6-b095-fa37e4102815",
   "metadata": {},
   "outputs": [],
   "source": [
    "try:\n",
    "    # get message\n",
    "    api_response = api_instance.message_id_get(id_, with_enrichment=True, dev=True) # dev indicates returning of all existing enrichments regardless of meta data existance.\n",
    "    pprint(api_response)\n",
    "except ApiException as e:\n",
    "    print(\"Exception when calling MessageApi->message_id_get: %s\\n\" % e)"
   ]
  },
  {
   "cell_type": "code",
   "execution_count": null,
   "id": "75b482c8-8a99-4b9e-801a-244ab6262b26",
   "metadata": {},
   "outputs": [],
   "source": [
    "try:\n",
    "    # get enrichments for this message\n",
    "    api_response = api_instance.message_id_enrichments_get(id_, dev=True)\n",
    "    pprint(api_response)\n",
    "except ApiException as e:\n",
    "    print(\"Exception when calling MessageApi->message_id_enrichments_get: %s\\n\" % e)"
   ]
  },
  {
   "cell_type": "markdown",
   "id": "19c8ac84-b7a2-46b5-b616-2ccd4897474b",
   "metadata": {},
   "source": [
    "## Add a new enrichment"
   ]
  },
  {
   "cell_type": "code",
   "execution_count": null,
   "id": "3814bc5a-4f25-4336-88dc-73531bf563e9",
   "metadata": {},
   "outputs": [],
   "source": [
    "enrichment_name = 'e1' # str\n",
    "provider_name = 'p1' # str\n",
    "version = '2.1' # str"
   ]
  },
  {
   "cell_type": "code",
   "execution_count": null,
   "id": "b11264c0-1f8f-439e-955f-7f2a0d71cc4f",
   "metadata": {},
   "outputs": [],
   "source": [
    "try:\n",
    "    # add the meta first\n",
    "    meta = uiuc_incas_client.ArrayEnrichmentMeta(enrichment_name=enrichment_name, enrichment_type='array', provider_name=provider_name, version=version)\n",
    "    api_instance.message_enrichments_meta_post(meta)\n",
    "except ApiException as e:\n",
    "    print(\"Exception when calling MessageApi->message_enrichments_meta_post: %s\\n\" % e)"
   ]
  },
  {
   "cell_type": "code",
   "execution_count": null,
   "id": "ed0ced64-59a2-4612-b90b-1b3210a91ba7",
   "metadata": {},
   "outputs": [],
   "source": [
    "try:\n",
    "    # insert a new enrichment\n",
    "    body = uiuc_incas_client.ArrayEnrichment(\n",
    "        confidence=[0.5],\n",
    "        enrichment_name=enrichment_name,\n",
    "        enrichment_type='array',\n",
    "        provider_name=provider_name,\n",
    "        version=version,\n",
    "        attribute_value=[1]\n",
    "    )\n",
    "    api_instance.message_id_enrichments_post(body, id_)\n",
    "    \n",
    "    # Show the content again\n",
    "    api_response = api_instance.message_id_enrichments_get(id_, dev=True)\n",
    "    pprint(api_response)\n",
    "except ApiException as e:\n",
    "    print(\"Exception when calling MessageApi->message_id_enrichments_post: %s\\n\" % e)"
   ]
  },
  {
   "cell_type": "code",
   "execution_count": null,
   "id": "17a86256-ce1d-44d2-8cfb-299eb6357db4",
   "metadata": {},
   "outputs": [],
   "source": [
    "try:\n",
    "    # update the enrichment\n",
    "    body = uiuc_incas_client.ArrayEnrichment(\n",
    "        confidence=[0.5, 0.5],\n",
    "        enrichment_name=enrichment_name,\n",
    "        enrichment_type='array',\n",
    "        provider_name=provider_name,\n",
    "        version=version,\n",
    "        attribute_value=[1, 2]  # change the value\n",
    "    )\n",
    "    api_instance.message_id_enrichments_put(body, id_)\n",
    "    \n",
    "    # Show the content again\n",
    "    api_response = api_instance.message_id_enrichments_get(id_, dev=True)\n",
    "    pprint(api_response)\n",
    "except ApiException as e:\n",
    "    print(\"Exception when calling MessageApi->message_id_enrichments_put: %s\\n\" % e)"
   ]
  },
  {
   "cell_type": "markdown",
   "id": "5381c231-f1f5-4da0-b5f2-17743df13441",
   "metadata": {},
   "source": [
    "## Delete an enrichment"
   ]
  },
  {
   "cell_type": "code",
   "execution_count": null,
   "id": "a7717ae2-5d04-4faf-9021-8d239e114919",
   "metadata": {},
   "outputs": [],
   "source": [
    "try:\n",
    "    # First delete the meta\n",
    "    api_instance.message_enrichments_meta_delete(enrichment_name, provider_name, version)\n",
    "    \n",
    "    # Here we use a batch delete, single delete is also available\n",
    "    body = uiuc_incas_client.MessageEnrichmentsBatchDeleteBody(\n",
    "        ids=[id_],\n",
    "        enrichment_name=enrichment_name,\n",
    "        provider_name=provider_name,\n",
    "        version=version\n",
    "    )\n",
    "    api_instance.message_enrichments_batch_delete(body)\n",
    "except ApiException as e:\n",
    "    print(\"Exception when calling MessageApi->message_enrichments_batch_delete: %s\\n\" % e)"
   ]
  },
  {
   "cell_type": "code",
   "execution_count": null,
   "id": "04aef621-cf03-4129-9695-ba9e572c22be",
   "metadata": {},
   "outputs": [],
   "source": []
  },
  {
   "cell_type": "code",
   "execution_count": null,
   "id": "661a68c5-9a78-466b-8e77-63ea50ecccc0",
   "metadata": {},
   "outputs": [],
   "source": [
    "try:\n",
    "    # get the current message number\n",
    "    api_response = api_instance.message_count_get(media_type='Twitter')\n",
    "    pprint(api_response)\n",
    "except ApiException as e:\n",
    "    print(\"Exception when calling MessageApi->message_count_get: %s\\n\" % e)"
   ]
  },
  {
   "cell_type": "code",
   "execution_count": null,
   "id": "d9ca8bb1-070d-4757-88db-9cd6623ff5b3",
   "metadata": {},
   "outputs": [],
   "source": [
    "try:\n",
    "    # get a batch of messages with ids\n",
    "    body = uiuc_incas_client.MessageBatchGetBody(\n",
    "        ids=[\"message:twitter:0ab3ba38dfceeb5f3fe913900229a88ee3c45fb1\", \"message:twitter:15ca66fd52c3fea8b3260120e79f09c87d88aec1\"],\n",
    "        dev=False,\n",
    "        with_enrichment=True\n",
    "    )\n",
    "    api_response = api_instance.message_batch_get(body)\n",
    "    pprint(api_response)\n",
    "except ApiException as e:\n",
    "    print(\"Exception when calling MessageApi->message_batch_get: %s\\n\" % e)"
   ]
  },
  {
   "cell_type": "markdown",
   "id": "0407172b",
   "metadata": {},
   "source": [
    "## Get all id list"
   ]
  },
  {
   "cell_type": "code",
   "execution_count": 2,
   "id": "8f054a97-639c-4ad6-a187-4d038bce2dea",
   "metadata": {},
   "outputs": [
    {
     "data": {
      "image/png": "[encoded data removed]",
      "text/plain": [
       "<Figure size 432x288 with 1 Axes>"
      ]
     },
     "metadata": {
      "needs_background": "light"
     },
     "output_type": "display_data"
    }
   ],
   "source": [
    "msg_api_instance = uiuc_incas_client.MessageApi(client)\n",
    "actor_api_instance = uiuc_incas_client.ActorApi(client)\n",
    "\n",
    "try:\n",
    "    actors = []\n",
    "    bsize = 5000\n",
    "    total_act = actor_api_instance.actor_count_get(media_type='Twitter', entity_type='Person')\n",
    "    print(total_act)\n",
    "    for begin in tqdm(range(0, total_act, bsize), total=ceil(total_act / bsize)):\n",
    "        ids = [x.actor_id for x in actor_api_instance.actor_list_get(begin=begin, end=min(begin + bsize, total_act), media_type='Twitter', entity_type='Person')]\n",
    "        actors.extend(actor_api_instance.actor_batch_get(body=uiuc_incas_client.ActorBatchGetBody(\n",
    "            ids=ids, \n",
    "            with_enrichment=True)))\n",
    "except ApiException as e:\n",
    "    print(\"Exception when calling ActorApi: %s\\n\" % e)"
   ]
  }
 ],
 "metadata": {
  "interpreter": {
   "hash": "31f2aee4e71d21fbe5cf8b01ff0e069b9275f58929596ceb00d14d90e3e16cd6"
  },
  "kernelspec": {
   "display_name": "Python 3 (ipykernel)",
   "language": "python",
   "name": "python3"
  },
  "language_info": {
   "codemirror_mode": {
    "name": "ipython",
    "version": 3
   },
   "file_extension": ".py",
   "mimetype": "text/x-python",
   "name": "python",
   "nbconvert_exporter": "python",
   "pygments_lexer": "ipython3",
   "version": "3.8.10"
  }
 },
 "nbformat": 4,
 "nbformat_minor": 5
}
